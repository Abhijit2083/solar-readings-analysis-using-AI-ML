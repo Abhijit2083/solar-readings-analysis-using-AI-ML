{
 "cells": [
  {
   "cell_type": "code",
   "execution_count": 32,
   "id": "fad1e873-75a2-41d7-97f5-e62b7dc2058f",
   "metadata": {},
   "outputs": [
    {
     "name": "stdout",
     "output_type": "stream",
     "text": [
      "Boston housing dataset has 501 data points with 14 variables each.\n",
      "Statistics for Boston housing dataset:\n",
      "\n",
      "Minimum price: $5.0\n",
      "Maximum price: $50.0\n",
      "Mean price: $22.56127744510978\n",
      "Median price $21.2\n",
      "Standard deviation of prices: $9.223216473694468\n",
      "Predicted price for a house with 10 rooms: $56.40796337698985\n"
     ]
    }
   ],
   "source": [
    "import numpy as np\n",
    "import pandas as pd\n",
    "from sklearn.model_selection import ShuffleSplit\n",
    "from sklearn.linear_model import LinearRegression\n",
    "import matplotlib.pyplot as plt\n",
    "%matplotlib inline\n",
    "data = pd.read_csv('assi4ds.csv')\n",
    "data.dropna(subset=['rm', 'medv'], inplace=True)\n",
    "x = data.rm.values.reshape(-1, 1)  \n",
    "prices = data.medv.values\n",
    "lin = LinearRegression()\n",
    "lin.fit(x, prices)\n",
    "print(\"Boston housing dataset has {} data points with {} variables each.\".format(*data.shape))\n",
    "minimum_price = np.amin(prices)\n",
    "maximum_price = np.amax(prices)\n",
    "mean_price = np.mean(prices)\n",
    "median_price = np.median(prices)\n",
    "std_price = np.std(prices)\n",
    "print(\"Statistics for Boston housing dataset:\\n\")\n",
    "print(\"Minimum price: ${}\".format(minimum_price))\n",
    "print(\"Maximum price: ${}\".format(maximum_price))\n",
    "print(\"Mean price: ${}\".format(mean_price))\n",
    "print(\"Median price ${}\".format(median_price))\n",
    "print(\"Standard deviation of prices: ${}\".format(std_price))\n",
    "predicted_price = lin.predict([[10]])\n",
    "print(\"Predicted price for a house with 10 rooms: ${}\".format(predicted_price[0]))\n",
    "\n"
   ]
  },
  {
   "cell_type": "code",
   "execution_count": null,
   "id": "9f1b06be-11fc-4a48-93bb-19193e97f5ad",
   "metadata": {},
   "outputs": [],
   "source": []
  }
 ],
 "metadata": {
  "kernelspec": {
   "display_name": "sklearnkernel",
   "language": "python",
   "name": "sklearnkernel"
  },
  "language_info": {
   "codemirror_mode": {
    "name": "ipython",
    "version": 3
   },
   "file_extension": ".py",
   "mimetype": "text/x-python",
   "name": "python",
   "nbconvert_exporter": "python",
   "pygments_lexer": "ipython3",
   "version": "3.12.2"
  }
 },
 "nbformat": 4,
 "nbformat_minor": 5
}
